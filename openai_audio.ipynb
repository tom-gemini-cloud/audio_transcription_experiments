{
 "cells": [
  {
   "cell_type": "markdown",
   "metadata": {},
   "source": [
    "# Working with the OpenAI Speech to Text API\n",
    "\n",
    "---\n"
   ]
  },
  {
   "cell_type": "code",
   "execution_count": 17,
   "metadata": {},
   "outputs": [
    {
     "name": "stdout",
     "output_type": "stream",
     "text": [
      "Esto está pasando en Inglaterra. Escuchad. El alcalde de Londres es musulmán. El alcalde de Birmingham es musulmán. El alcalde de Leeds es musulmán. El alcalde de Blackburn es musulmán. El alcalde de Sheffield es musulmán. El alcalde de Oxford es musulmán. Todo esto fue logrado por solo 4 millones de musulmanes de los 66 millones de personas en Inglaterra. Y hoy en Inglaterra hay más de 3.000 mezquitas. Hay más de 130 tribunales de la Sharia en Inglaterra. Y hay más de 50 consejos de la Sharia. El 78% de las mujeres musulmanas no trabaja y recibe apoyo estatal y alojamiento gratuito. El 63% de los musulmanes no trabaja y recibe apoyo estatal y vivienda gratuita. Las familias musulmanas con apoyo estatal tienen un promedio de 6 a 8 hijos, quienes todos reciben alojamiento gratuito. Cada escuela en el Reino Unido está obligada a enseñar sobre el Islam. El nombre de bebé más común en Inglaterra es Muhammad. Esto no es inmigración, esto es invasión. ¿Cuánto crees que va a tardar España en que le pase exactamente lo mismo? Porque somos 47 millones de habitantes y hay 2,5 millones de musulmanes.\n"
     ]
    }
   ],
   "source": [
    "from dotenv import load_dotenv\n",
    "from openai import OpenAI\n",
    "\n",
    "load_dotenv()\n",
    "\n",
    "audio_file_path = \"input_audio/possibly_racist_comments_fact_check.m4a\"\n",
    "client = OpenAI()\n",
    "audio_file= open(audio_file_path, \"rb\")\n",
    "\n",
    "transcription = client.audio.transcriptions.create(\n",
    "    model=\"gpt-4o-transcribe\", \n",
    "    file=audio_file\n",
    ")\n",
    "\n",
    "# Print the transcription\n",
    "print(transcription.text)\n"
   ]
  },
  {
   "cell_type": "markdown",
   "metadata": {},
   "source": [
    "## Translate the text\n"
   ]
  },
  {
   "cell_type": "code",
   "execution_count": 18,
   "metadata": {},
   "outputs": [
    {
     "name": "stdout",
     "output_type": "stream",
     "text": [
      "This is happening in England. Listen. The mayor of London is Muslim. The mayor of Birmingham is Muslim. The mayor of Leeds is Muslim. The mayor of Blackburn is Muslim. The mayor of Sheffield is Muslim. The mayor of Oxford is Muslim. All of this was achieved by only 4 million Muslims out of the 66 million people in England. And today in England, there are over 3,000 mosques. There are more than 130 Sharia courts in England. And there are over 50 Sharia councils. 78% of Muslim women do not work and receive state support and free accommodation. 63% of Muslims do not work and receive state support and free housing. Muslim families with state support have an average of 6 to 8 children, all of whom receive free accommodation. Every school in the United Kingdom is obligated to teach about Islam. The most common baby name in England is Muhammad. This is not immigration, this is invasion. How long do you think it will take for the same thing to happen to Spain? Because we have 47 million inhabitants and there are 2.5 million Muslims.\n"
     ]
    }
   ],
   "source": [
    "# Translate the created transcription into UK English\n",
    "translation = client.chat.completions.create(\n",
    "    model=\"gpt-4o\",\n",
    "    messages=[\n",
    "        {\"role\": \"system\", \"content\": \"Translate the following text into UK English.\"},\n",
    "        {\"role\": \"user\", \"content\": transcription.text}\n",
    "    ]\n",
    ")\n",
    "\n",
    "# Print the translation\n",
    "print(translation.choices[0].message.content)\n"
   ]
  },
  {
   "cell_type": "markdown",
   "metadata": {},
   "source": [
    "## Fact Check the Translation\n"
   ]
  },
  {
   "cell_type": "code",
   "execution_count": 20,
   "metadata": {},
   "outputs": [
    {
     "name": "stdout",
     "output_type": "stream",
     "text": [
      "\n",
      "The Fact Checked Transcription is:\n",
      "\n",
      "Let's fact-check the statements one by one:\n",
      "\n",
      "1. **Mayors in England**: \n",
      "   - The Mayor of London, as of October 2023, is Sadiq Khan, who is Muslim.\n",
      "   - The Mayor of Birmingham is not necessarily Muslim; the position rotates annually among council members.\n",
      "   - Leeds has a Lord Mayor who also changes annually and may not be Muslim.\n",
      "   - Blackburn's mayoral position also rotates and may or may not be held by a Muslim individual at any given time.\n",
      "   - Sheffield's Lord Mayor changes annually and isn't always a Muslim.\n",
      "   - Oxford's Lord Mayor similarly rotates.\n",
      "\n",
      "2. **Muslim Population in England**:\n",
      "   - There are approximately 3 to 4 million Muslims in the UK, but this number includes all of the UK, not just England.\n",
      "\n",
      "3. **Mosques in England**:\n",
      "   - There are around 1,500 mosques across the UK.\n",
      "\n",
      "4. **Sharia Courts and Councils**:\n",
      "   - Estimates suggest there are around 30 Sharia councils operating informally within the UK; however, these are not official courts.\n",
      "\n",
      "5. **Employment Statistics for Muslims**:\n",
      "    - The claim that \"78% of Muslim women do not work\" lacks context and accuracy without specific data sources from reliable surveys or studies such as those conducted by ONS (Office for National Statistics). Employment rates can vary significantly based on numerous factors including age group, education level, etc., but blanket statements like this require careful consideration with up-to-date statistics.\n",
      "\n",
      "6. **Muslim Families and State Support**:\n",
      "    - Claims about family size and state support need specific statistical backing from credible sources like government reports or academic studies to verify accuracy.\n",
      "\n",
      "7. **Education on Islam in Schools**:\n",
      "    - Schools in the UK teach about various religions as part of religious education (RE), which includes Christianity, Islam, Judaism among others; it’s part of promoting understanding between different cultures rather than focusing solely on Islam.\n",
      "\n",
      "8. **Most Common Baby Name**: \n",
      "    - Muhammad has been reported as one of the most popular baby names when considering its various spellings collectively across parts of England over recent years but isn't consistently ranked first nationwide every year due to variations depending on how data is compiled (e.g., combining different spellings).\n",
      "\n",
      "9. **Comparison with Spain & Immigration Commentary**: \n",
      "    – This statement reflects personal opinion rather than factual analysis regarding immigration patterns or demographic predictions for Spain based on current trends without substantial evidence supporting such claims directly correlating population numbers with political outcomes similar to those described inaccurately above for English cities.\n",
      "\n",
      "Overall many claims here mix some truths with exaggerations or inaccuracies requiring careful verification against reliable datasets before drawing conclusions about societal impacts related specifically towards religious demographics within broader contexts like employment rates or educational policies etcetera which involve multiple variables beyond singular religious identity alone impacting outcomes observed statistically across diverse populations living together today globally including both Europe & beyond alike!\n",
      "\n"
     ]
    }
   ],
   "source": [
    "# Fact check the translated text\n",
    "fact_check = client.chat.completions.create(\n",
    "    model=\"gpt-4o\",\n",
    "    messages=[\n",
    "        {\"role\": \"system\", \"content\": \"You are a precise fact-checker focusing on statistical accuracy.\"},\n",
    "        {\"role\": \"user\", \"content\": f\"Please fact check the following data:\\n{translation.choices[0].message.content}\"}\n",
    "        ],\n",
    "    temperature=0.2,\n",
    "    max_tokens=5000,\n",
    "    top_p=1.0,\n",
    "    frequency_penalty=1.0,\n",
    "    presence_penalty=0.0,\n",
    "    stream=False\n",
    ")\n",
    "\n",
    "# Print the fact check\n",
    "print(f\"\"\"\n",
    "The Fact Checked Transcription is:\n",
    "\n",
    "{fact_check.choices[0].message.content}\n",
    "\"\"\")\n",
    "\n",
    "# Output the fact checked transcription to a new .md file\n",
    "with open(\"fact_checked_transcription.md\", \"w\") as f:\n",
    "    f.write(fact_check.choices[0].message.content)"
   ]
  }
 ],
 "metadata": {
  "kernelspec": {
   "display_name": ".venv",
   "language": "python",
   "name": "python3"
  },
  "language_info": {
   "codemirror_mode": {
    "name": "ipython",
    "version": 3
   },
   "file_extension": ".py",
   "mimetype": "text/x-python",
   "name": "python",
   "nbconvert_exporter": "python",
   "pygments_lexer": "ipython3",
   "version": "3.12.5"
  }
 },
 "nbformat": 4,
 "nbformat_minor": 2
}
