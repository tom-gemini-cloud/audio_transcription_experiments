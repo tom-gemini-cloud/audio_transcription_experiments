{
 "cells": [
  {
   "cell_type": "markdown",
   "metadata": {},
   "source": [
    "# Working with the OpenAI Speech to Text API\n",
    "\n",
    "---\n"
   ]
  },
  {
   "cell_type": "code",
   "execution_count": 12,
   "metadata": {},
   "outputs": [
    {
     "name": "stdout",
     "output_type": "stream",
     "text": [
      "Esto está pasando en Inglaterra, escuchad. El alcalde de Londres es musulmán. El alcalde de Birmingham es musulmán. El alcalde de Leeds es musulmán. El alcalde de Blackburn es musulmán. El alcalde de Sheffield es musulmán. El alcalde de Oxford es musulmán. Todo esto fue logrado por solo cuatro millones de musulmanes de los 66 millones de personas en Inglaterra. Y hoy en Inglaterra hay más de tres mil mezquitas. Hay más de 130 tribunales de la sharía en Inglaterra. Y hay más de 50 consejos de la sharía. El 78% de las mujeres musulmanas no trabaja y recibe apoyo estatal y alojamiento gratuito. El 63% de los musulmanes no trabaja y recibe apoyo estatal y vivienda gratuita. Las familias musulmanas con apoyo estatal tienen un promedio de seis a ocho hijos, quienes todos reciben alojamiento gratuito. Cada escuela en el Reino Unido está obligada a enseñar sobre el Islam. El nombre de bebé más común en Inglaterra es Muhammad. Esto no es inmigración, esto es invasión. ¿Cuánto crees que va a tardar España en que le pase exactamente lo mismo? Porque somos 47 millones de habitantes y hay 2,5 millones de musulmanes.\n",
      "\n",
      "The Translated Audio Transcription is:\n",
      "\n",
      "This is happening in England, listen. The Mayor of London is Muslim. The Mayor of Birmingham is Muslim. The Mayor of Leeds is Muslim. The Mayor of Blackburn is Muslim. The Mayor of Sheffield is Muslim. The Mayor of Oxford is Muslim. All this was achieved by just four million Muslims out of the 66 million people in England. And today in England, there are more than three thousand mosques. There are over 130 Sharia courts in England. And there are over 50 Sharia councils. 78% of Muslim women do not work and receive state support and free accommodation. 63% of Muslims do not work and receive state support and free housing. State-supported Muslim families have an average of six to eight children, all of whom receive free accommodation. Every school in the United Kingdom is required to teach about Islam. The most common baby name in England is Muhammad. This is not immigration, this is invasion. How long do you think it will be before the same thing happens in Spain? Because we are 47 million inhabitants and there are 2.5 million Muslims.\n",
      "\n",
      "The Fact Checked Transcription is:\n",
      "\n",
      "It is important to critically evaluate the claims made in this text:\n",
      "\n",
      "1. **Mayors of Major Cities**: As of my last update in October 2023, the only mentioned city with a Muslim mayor is London, where Sadiq Khan serves as the mayor. There is no evidence that the mayors of Birmingham, Leeds, Blackburn, Sheffield, and Oxford are all Muslim.\n",
      "\n",
      "2. **Muslim Population in England**: The figure of four million Muslims in England is a rough estimate, and they constitute a significant minority, but the claim that their presence denotes an \"invasion\" is misleading and promotes a divisive narrative.\n",
      "\n",
      "3. **Mosques and Sharia Courts**: While there are many mosques in England, the claim of more than 130 Sharia courts is misleading. Sharia councils operate on a consultation basis and do not have any legal power in the UK judicial system.\n",
      "\n",
      "4. **Employment and Education**: The percentages about Muslim employment and reliance on state support are unsubstantiated and paint an inaccurate, stereotypical picture of the Muslim population in the UK.\n",
      "\n",
      "5. **Education Requirement**: Schools in the UK teach about various religions as part of their curriculum, which includes information about Islam among other religions, promoting inclusivity rather than preference.\n",
      "\n",
      "6. **Common Baby Name**: \"Muhammad\" is indeed a popular name in parts of the UK, but it is one among many common names and varies by region.\n",
      "\n",
      "It's crucial to address and understand such information in a factual context rather than a sensationalized one.\n",
      "\n"
     ]
    }
   ],
   "source": [
    "from dotenv import load_dotenv\n",
    "from openai import OpenAI\n",
    "\n",
    "load_dotenv()\n",
    "\n",
    "audio_file_path = \"input_audio/possibly_racist_comments_fact_check.m4a\"\n",
    "client = OpenAI()\n",
    "audio_file= open(audio_file_path, \"rb\")\n",
    "\n",
    "transcription = client.audio.transcriptions.create(\n",
    "    model=\"gpt-4o-transcribe\", \n",
    "    file=audio_file\n",
    ")\n",
    "\n",
    "# Print the transcription\n",
    "print(transcription.text)\n",
    "\n",
    "# Translate the created transcription into UK English\n",
    "translation = client.chat.completions.create(\n",
    "    model=\"gpt-4o\",\n",
    "    messages=[\n",
    "        {\"role\": \"system\", \"content\": \"Translate the following text into UK English.\"},\n",
    "        {\"role\": \"user\", \"content\": transcription.text}\n",
    "    ]\n",
    ")\n",
    "\n",
    "# Fact check the translated text\n",
    "fact_check = client.chat.completions.create(\n",
    "    model=\"gpt-4o\",\n",
    "    messages=[\n",
    "        {\"role\": \"system\", \"content\": \"Fact check the following text.\"},\n",
    "        {\"role\": \"user\", \"content\": f\"{translation.choices[0].message.content} and give the response in a plain text format suitable for copying directly into WhatsApp.\"}\n",
    "    ]\n",
    ")\n",
    "\n",
    "# Print the fact check\n",
    "print(f\"\"\"\n",
    "The Translated Audio Transcription is:\n",
    "\n",
    "{translation.choices[0].message.content}\n",
    "\n",
    "The Fact Checked Transcription is:\n",
    "\n",
    "{fact_check.choices[0].message.content}\n",
    "\"\"\")\n",
    "\n",
    "# Output the fact checked transcription to a new .md file\n",
    "with open(\"fact_checked_transcription.md\", \"w\") as f:\n",
    "    f.write(fact_check.choices[0].message.content)\n"
   ]
  }
 ],
 "metadata": {
  "kernelspec": {
   "display_name": ".venv",
   "language": "python",
   "name": "python3"
  },
  "language_info": {
   "codemirror_mode": {
    "name": "ipython",
    "version": 3
   },
   "file_extension": ".py",
   "mimetype": "text/x-python",
   "name": "python",
   "nbconvert_exporter": "python",
   "pygments_lexer": "ipython3",
   "version": "3.12.5"
  }
 },
 "nbformat": 4,
 "nbformat_minor": 2
}
