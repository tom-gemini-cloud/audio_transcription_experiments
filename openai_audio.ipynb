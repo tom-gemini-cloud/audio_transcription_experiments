{
 "cells": [
  {
   "cell_type": "markdown",
   "metadata": {},
   "source": [
    "# Working with the OpenAI Speech to Text API\n",
    "\n",
    "---\n"
   ]
  },
  {
   "cell_type": "code",
   "execution_count": 17,
   "metadata": {},
   "outputs": [
    {
     "name": "stdout",
     "output_type": "stream",
     "text": [
      "Esto está pasando en Inglaterra. Escuchad. El alcalde de Londres es musulmán. El alcalde de Birmingham es musulmán. El alcalde de Leeds es musulmán. El alcalde de Blackburn es musulmán. El alcalde de Sheffield es musulmán. El alcalde de Oxford es musulmán. Todo esto fue logrado por solo 4 millones de musulmanes de los 66 millones de personas en Inglaterra. Y hoy en Inglaterra hay más de 3.000 mezquitas. Hay más de 130 tribunales de la Sharia en Inglaterra. Y hay más de 50 consejos de la Sharia. El 78% de las mujeres musulmanas no trabaja y recibe apoyo estatal y alojamiento gratuito. El 63% de los musulmanes no trabaja y recibe apoyo estatal y vivienda gratuita. Las familias musulmanas con apoyo estatal tienen un promedio de 6 a 8 hijos, quienes todos reciben alojamiento gratuito. Cada escuela en el Reino Unido está obligada a enseñar sobre el Islam. El nombre de bebé más común en Inglaterra es Muhammad. Esto no es inmigración, esto es invasión. ¿Cuánto crees que va a tardar España en que le pase exactamente lo mismo? Porque somos 47 millones de habitantes y hay 2,5 millones de musulmanes.\n"
     ]
    }
   ],
   "source": [
    "from dotenv import load_dotenv\n",
    "from openai import OpenAI\n",
    "\n",
    "load_dotenv()\n",
    "\n",
    "audio_file_path = \"input_audio/possibly_racist_comments_fact_check.m4a\"\n",
    "client = OpenAI()\n",
    "audio_file= open(audio_file_path, \"rb\")\n",
    "\n",
    "transcription = client.audio.transcriptions.create(\n",
    "    model=\"gpt-4o-transcribe\", \n",
    "    file=audio_file\n",
    ")\n",
    "\n",
    "# Print the transcription\n",
    "print(transcription.text)\n"
   ]
  },
  {
   "cell_type": "markdown",
   "metadata": {},
   "source": [
    "## Translate the text\n"
   ]
  },
  {
   "cell_type": "code",
   "execution_count": 18,
   "metadata": {},
   "outputs": [
    {
     "name": "stdout",
     "output_type": "stream",
     "text": [
      "This is happening in England. Listen. The mayor of London is Muslim. The mayor of Birmingham is Muslim. The mayor of Leeds is Muslim. The mayor of Blackburn is Muslim. The mayor of Sheffield is Muslim. The mayor of Oxford is Muslim. All of this was achieved by only 4 million Muslims out of the 66 million people in England. And today in England, there are over 3,000 mosques. There are more than 130 Sharia courts in England. And there are over 50 Sharia councils. 78% of Muslim women do not work and receive state support and free accommodation. 63% of Muslims do not work and receive state support and free housing. Muslim families with state support have an average of 6 to 8 children, all of whom receive free accommodation. Every school in the United Kingdom is obligated to teach about Islam. The most common baby name in England is Muhammad. This is not immigration, this is invasion. How long do you think it will take for the same thing to happen to Spain? Because we have 47 million inhabitants and there are 2.5 million Muslims.\n"
     ]
    }
   ],
   "source": [
    "# Translate the created transcription into UK English\n",
    "translation = client.chat.completions.create(\n",
    "    model=\"gpt-4o\",\n",
    "    messages=[\n",
    "        {\"role\": \"system\", \"content\": \"Translate the following text into UK English.\"},\n",
    "        {\"role\": \"user\", \"content\": transcription.text}\n",
    "    ]\n",
    ")\n",
    "\n",
    "# Print the translation\n",
    "print(translation.choices[0].message.content)\n"
   ]
  },
  {
   "cell_type": "markdown",
   "metadata": {},
   "source": [
    "## Fact Check the Translation\n"
   ]
  },
  {
   "cell_type": "code",
   "execution_count": 19,
   "metadata": {},
   "outputs": [
    {
     "name": "stdout",
     "output_type": "stream",
     "text": [
      "\n",
      "The Translated Audio Transcription is:\n",
      "\n",
      "This is happening in England. Listen. The mayor of London is Muslim. The mayor of Birmingham is Muslim. The mayor of Leeds is Muslim. The mayor of Blackburn is Muslim. The mayor of Sheffield is Muslim. The mayor of Oxford is Muslim. All of this was achieved by only 4 million Muslims out of the 66 million people in England. And today in England, there are over 3,000 mosques. There are more than 130 Sharia courts in England. And there are over 50 Sharia councils. 78% of Muslim women do not work and receive state support and free accommodation. 63% of Muslims do not work and receive state support and free housing. Muslim families with state support have an average of 6 to 8 children, all of whom receive free accommodation. Every school in the United Kingdom is obligated to teach about Islam. The most common baby name in England is Muhammad. This is not immigration, this is invasion. How long do you think it will take for the same thing to happen to Spain? Because we have 47 million inhabitants and there are 2.5 million Muslims.\n",
      "\n",
      "The Fact Checked Transcription is:\n",
      "\n",
      "Let's fact-check the statements provided:\n",
      "\n",
      "1. **Mayors in England**: \n",
      "   - The Mayor of London, as of October 2023, is Sadiq Khan, who is Muslim.\n",
      "   - The Mayor of Birmingham is not necessarily Muslim; the position can change annually and has been held by individuals from various backgrounds.\n",
      "   - Similarly, the mayors of Leeds, Blackburn, Sheffield, and Oxford are not all Muslims. These positions often rotate annually and are filled by council members from different political parties and backgrounds.\n",
      "\n",
      "2. **Muslim Population in England**:\n",
      "   - As per the 2011 Census (the most recent detailed census data available), there were approximately 2.7 million Muslims in England and Wales. Estimates suggest this number has grown but likely remains below 4 million.\n",
      "\n",
      "3. **Number of Mosques**:\n",
      "   - There are around 1,500 mosques across the UK according to various sources; claims of over 3,000 seem exaggerated.\n",
      "\n",
      "4. **Sharia Courts/Councils**:\n",
      "   - There are no official \"Sharia courts\" within the UK legal system; however, there are Sharia councils that provide guidance on religious matters for Muslims. Estimates vary widely but suggest fewer than claimed numbers.\n",
      "\n",
      "5. **Employment Statistics for Muslim Women**:\n",
      "   - According to a report by Women and Equalities Committee (2016), employment rates for Muslim women were lower than average but not as low as claimed (78%).\n",
      "\n",
      "6. **Employment Statistics for Muslims Overall**:\n",
      "   - Employment rates among British Muslims have historically been lower than average due to various socio-economic factors but claiming that 63% do not work seems exaggerated without current specific data supporting it.\n",
      "\n",
      "7. **Family Size & State Support**:\n",
      "    - Claims about family size being \"6 to 8 children\" on average with state support lack statistical backing; they appear exaggerated compared to national averages which show smaller family sizes overall.\n",
      "\n",
      "8. **Education About Islam in Schools**: \n",
      "    - Schools in the UK teach about a variety of religions including Islam as part of religious education curricula which aim at promoting understanding among different faiths rather than focusing solely on Islam.\n",
      "\n",
      "9. **Most Common Baby Name**: \n",
      "    - Muhammad has been one of several popular baby names in recent years when accounting for its variations (Mohammed/Mohammad).\n",
      "\n",
      "10. **Comparison with Spain's Situation**: \n",
      "    - The statement draws speculative conclusions without evidence-based projections regarding demographic changes or social impacts similar to those inaccurately described for England.\n",
      "\n",
      "Overall many claims presented lack accurate statistical backing or context necessary to understand complex social dynamics accurately within these regions.\n",
      "\n",
      "\n"
     ]
    }
   ],
   "source": [
    "# Fact check the translated text\n",
    "fact_check = client.chat.completions.create(\n",
    "    model=\"gpt-4o\",\n",
    "    messages=[\n",
    "        {\"role\": \"system\", \"content\": \"You are a precise fact-checker focusing on statistical accuracy.\"},\n",
    "        {\"role\": \"user\", \"content\": f\"Please fact check the following data:\\n{translation.choices[0].message.content}\"}\n",
    "        ],\n",
    "    temperature=0.2,\n",
    "    max_tokens=5000,\n",
    "    top_p=1.0,\n",
    "    frequency_penalty=1.0,\n",
    "    presence_penalty=0.0,\n",
    "    stream=False\n",
    ")\n",
    "\n",
    "# Print the fact check\n",
    "print(f\"\"\"\n",
    "The Fact Checked Transcription is:\n",
    "\n",
    "{fact_check.choices[0].message.content}\n",
    "\"\"\")\n",
    "\n",
    "# Output the fact checked transcription to a new .md file\n",
    "with open(\"fact_checked_transcription.md\", \"w\") as f:\n",
    "    f.write(fact_check.choices[0].message.content)"
   ]
  }
 ],
 "metadata": {
  "kernelspec": {
   "display_name": ".venv",
   "language": "python",
   "name": "python3"
  },
  "language_info": {
   "codemirror_mode": {
    "name": "ipython",
    "version": 3
   },
   "file_extension": ".py",
   "mimetype": "text/x-python",
   "name": "python",
   "nbconvert_exporter": "python",
   "pygments_lexer": "ipython3",
   "version": "3.12.5"
  }
 },
 "nbformat": 4,
 "nbformat_minor": 2
}
